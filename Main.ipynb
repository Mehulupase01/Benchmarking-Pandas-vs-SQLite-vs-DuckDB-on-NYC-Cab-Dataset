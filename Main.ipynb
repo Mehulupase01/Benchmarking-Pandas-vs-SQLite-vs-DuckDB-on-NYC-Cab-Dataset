{
  "cells": [
    {
      "cell_type": "markdown",
      "metadata": {
        "id": "Ysi7m4vvxpxk"
      },
      "source": [
        "In this assignment, you will experiment with the NYC Cab dataset from 2016. This dataset provides information (e.g., pickup/dropoff time, # of passengers, trip distance, fare) about cab trips done in New York City during 2016. You can learn more about the dataset clicking [here!](https://www1.nyc.gov/site/tlc/about/tlc-trip-record-data.page)\n",
        "\n",
        "You will load this dataset into pandas, sqlite, and duckdb. You will compare the performance of multiple data-science like queries, including performing a fare estimation (i.e., predicting how much a ride will cost depending on distance) using machine learning.\n",
        "\n",
        "In the first section you will implement the loader in duckdb **[5 points].**\n",
        "\n",
        "The second section has two data-science like queries, the implementation in pandas is already given, and you should use it as a logical/correctness reference to write the queries for sqlite and duckdb, remember to compare the performance of the three different systems **[10 + 15 = 25 points]**.\n",
        "\n",
        "Finally, in the third section you will implement a simple machine learning algorithm in duckdb to predict fare costs. A full implementation of pandas is given and a partial of sqlite. Again, use them as a logical/correctness reference and compare the performance of the three different systems. **[40 points]**\n",
        "\n",
        "Remember to submit your notebook with the answers to all sections as well as a PDF document (max two papes) listing all experienced execution times and reasoning about the performance difference in these systems."
      ]
    },
    {
      "cell_type": "markdown",
      "metadata": {
        "id": "x4UIW8GUQaqt"
      },
      "source": [
        "# **SETUP**"
      ]
    },
    {
      "cell_type": "markdown",
      "metadata": {
        "id": "XXvRwAVPGtiX"
      },
      "source": [
        "First we need to install duckdb."
      ]
    },
    {
      "cell_type": "code",
      "execution_count": 1,
      "metadata": {
        "id": "IFC0Acb9Gu8W"
      },
      "outputs": [
        {
          "name": "stdout",
          "output_type": "stream",
          "text": [
            "Collecting duckdb\n",
            "  Downloading duckdb-1.1.1-cp311-cp311-win_amd64.whl.metadata (781 bytes)\n",
            "Downloading duckdb-1.1.1-cp311-cp311-win_amd64.whl (10.9 MB)\n",
            "   ---------------------------------------- 0.0/10.9 MB ? eta -:--:--\n",
            "   ---------------------------------------- 0.0/10.9 MB ? eta -:--:--\n",
            "   ---------------------------------------- 0.0/10.9 MB 435.7 kB/s eta 0:00:26\n",
            "   ---------------------------------------- 0.1/10.9 MB 656.4 kB/s eta 0:00:17\n",
            "    --------------------------------------- 0.1/10.9 MB 944.1 kB/s eta 0:00:12\n",
            "   - -------------------------------------- 0.4/10.9 MB 1.9 MB/s eta 0:00:06\n",
            "   -- ------------------------------------- 0.7/10.9 MB 3.1 MB/s eta 0:00:04\n",
            "   ---- ----------------------------------- 1.2/10.9 MB 4.2 MB/s eta 0:00:03\n",
            "   ------ --------------------------------- 1.7/10.9 MB 5.0 MB/s eta 0:00:02\n",
            "   ------- -------------------------------- 2.1/10.9 MB 5.5 MB/s eta 0:00:02\n",
            "   --------- ------------------------------ 2.5/10.9 MB 6.0 MB/s eta 0:00:02\n",
            "   ---------- ----------------------------- 2.9/10.9 MB 6.1 MB/s eta 0:00:02\n",
            "   ----------- ---------------------------- 3.3/10.9 MB 6.3 MB/s eta 0:00:02\n",
            "   ------------- -------------------------- 3.7/10.9 MB 6.6 MB/s eta 0:00:02\n",
            "   -------------- ------------------------- 4.1/10.9 MB 6.7 MB/s eta 0:00:02\n",
            "   ---------------- ----------------------- 4.4/10.9 MB 6.8 MB/s eta 0:00:01\n",
            "   ----------------- ---------------------- 4.9/10.9 MB 7.0 MB/s eta 0:00:01\n",
            "   ------------------- -------------------- 5.3/10.9 MB 7.0 MB/s eta 0:00:01\n",
            "   -------------------- ------------------- 5.7/10.9 MB 7.2 MB/s eta 0:00:01\n",
            "   ---------------------- ----------------- 6.3/10.9 MB 7.4 MB/s eta 0:00:01\n",
            "   ------------------------ --------------- 6.8/10.9 MB 7.6 MB/s eta 0:00:01\n",
            "   -------------------------- ------------- 7.3/10.9 MB 7.8 MB/s eta 0:00:01\n",
            "   ---------------------------- ----------- 7.8/10.9 MB 7.9 MB/s eta 0:00:01\n",
            "   ------------------------------ --------- 8.4/10.9 MB 8.1 MB/s eta 0:00:01\n",
            "   -------------------------------- ------- 8.9/10.9 MB 8.2 MB/s eta 0:00:01\n",
            "   ---------------------------------- ----- 9.4/10.9 MB 8.4 MB/s eta 0:00:01\n",
            "   ------------------------------------ --- 10.0/10.9 MB 8.5 MB/s eta 0:00:01\n",
            "   -------------------------------------- - 10.6/10.9 MB 9.9 MB/s eta 0:00:01\n",
            "   ---------------------------------------  10.9/10.9 MB 10.1 MB/s eta 0:00:01\n",
            "   ---------------------------------------- 10.9/10.9 MB 9.8 MB/s eta 0:00:00\n",
            "Installing collected packages: duckdb\n",
            "Successfully installed duckdb-1.1.1\n"
          ]
        }
      ],
      "source": [
        "!pip install duckdb --upgrade"
      ]
    },
    {
      "cell_type": "markdown",
      "metadata": {
        "id": "XDQF0N7HJIQ_"
      },
      "source": [
        "Now we download the NYC Cab dataset as Parquet file."
      ]
    },
    {
      "cell_type": "markdown",
      "metadata": {
        "id": "ryMJZSckLmqG"
      },
      "source": [
        "# **Loading The Data** [5pts]"
      ]
    },
    {
      "cell_type": "markdown",
      "metadata": {
        "id": "EJSvVxkOL6af"
      },
      "source": [
        "In this section your goal is to write code to load the data in duckdb.\n",
        "\n",
        "First, run the code to load the data into Pandas and SQLite as provided:\n"
      ]
    },
    {
      "cell_type": "code",
      "execution_count": 2,
      "metadata": {
        "id": "nBPmYEMLNQ63"
      },
      "outputs": [
        {
          "name": "stdout",
          "output_type": "stream",
          "text": [
            "\n",
            "Pandas:\n",
            "10905067\n",
            "         VendorID tpep_pickup_datetime tpep_dropoff_datetime  passenger_count  \\\n",
            "2162890         1  2016-01-07 15:24:00   2016-01-07 15:30:37                1   \n",
            "\n",
            "         trip_distance  RatecodeID store_and_fwd_flag  PULocationID  \\\n",
            "2162890            1.9           1                  N           125   \n",
            "\n",
            "         DOLocationID  payment_type  fare_amount  extra  mta_tax  tip_amount  \\\n",
            "2162890           246             1          8.0    0.0      0.5        1.75   \n",
            "\n",
            "         tolls_amount  improvement_surcharge  total_amount  \\\n",
            "2162890           0.0                    0.3         10.55   \n",
            "\n",
            "        congestion_surcharge airport_fee  \n",
            "2162890                 None        None  \n",
            "\n",
            "SQLite:\n",
            "[(10905067,)]\n",
            "[(1, '2016-01-01 00:12:22', '2016-01-01 00:29:14', 1, 3.2, 1, 'N', 48, 262, 1, 14.0, 0.5, 0.5, 3.06, 0.0, 0.3, 18.36, None, None)]\n"
          ]
        }
      ],
      "source": [
        "import pandas\n",
        "import sqlite3\n",
        "\n",
        "print('\\nPandas:')\n",
        "\n",
        "yellow_tripdata_pandas = pandas.read_parquet('D:\\Cloud\\OneDrive - Vishwaniketan Trust\\Leiden University Workspace\\Advanced Data Management for Data Analysis\\ADM-A2\\yellow_tripdata_2016-01.parquet')\n",
        "\n",
        "print(len(yellow_tripdata_pandas))\n",
        "print(yellow_tripdata_pandas.sample(n=1))\n",
        "\n",
        "\n",
        "print('\\nSQLite:')\n",
        "\n",
        "db_sqlite = sqlite3.connect('yellow_tripdate_sqlite.db')\n",
        "yellow_tripdata_pandas.to_sql('yellow_tripdata_2016_01', db_sqlite, index=False)\n",
        "\n",
        "sqlite_cursor = db_sqlite.cursor() # Creates a Cursor, that allows us to issue SQL Stataments\n",
        "print(sqlite_cursor.execute(\"SELECT count(*) FROM yellow_tripdata_2016_01\").fetchall())\n",
        "print(sqlite_cursor.execute(\"SELECT * FROM yellow_tripdata_2016_01 LIMIT 1\").fetchall())"
      ]
    },
    {
      "cell_type": "markdown",
      "metadata": {
        "id": "YKAtnEB2PuCp"
      },
      "source": [
        "How do we load data in DuckDB? https://duckdb.org/docs/data/overview https://duckdb.org/docs/data/parquet\n",
        "\n"
      ]
    },
    {
      "cell_type": "code",
      "execution_count": 5,
      "metadata": {},
      "outputs": [
        {
          "name": "stdout",
          "output_type": "stream",
          "text": [
            "\n",
            "DuckDB:\n",
            "Row count: 10905067\n",
            "Sample row: [(1, datetime.datetime(2016, 1, 1, 0, 12, 22), datetime.datetime(2016, 1, 1, 0, 29, 14), 1, 3.2, 1, 'N', 48, 262, 1, 14.0, 0.5, 0.5, 3.06, 0.0, 0.3, 18.36, None, None)]\n"
          ]
        }
      ],
      "source": [
        "import duckdb\n",
        "\n",
        "print('\\nDuckDB:')\n",
        "db = duckdb.connect('yellow_tripdata_duck.db')\n",
        "duck_cursor = db.cursor()\n",
        "sql_load = \"\"\"\n",
        "CREATE TABLE yellow_tripdata_2016_01 AS \n",
        "SELECT * FROM 'yellow_tripdata_2016-01.parquet';\n",
        "\"\"\"\n",
        "duck_cursor.execute(sql_load)\n",
        "\n",
        "row_count = duck_cursor.execute(\"SELECT count(*) FROM yellow_tripdata_2016_01\").fetchall()\n",
        "sample_row = duck_cursor.execute(\"SELECT * FROM yellow_tripdata_2016_01 LIMIT 1\").fetchall()\n",
        "\n",
        "print(f'Row count: {row_count[0][0]}')\n",
        "print(f'Sample row: {sample_row}')\n"
      ]
    },
    {
      "cell_type": "markdown",
      "metadata": {
        "id": "vyDSVNG1TmPi"
      },
      "source": [
        "# **Queries** [25 pts]"
      ]
    },
    {
      "cell_type": "markdown",
      "metadata": {
        "id": "W4wqtjzlT30T"
      },
      "source": [
        "**Query Q1 [10 pts]**: Count distinct values for each column.\n",
        "\n",
        "**TIP:** We provide you with the pandas implementation, be sure to use it to check for correctness!\n",
        "\n",
        "In the first query we want to compare the performance of a simple hash-function in our Database Management Systems (DBMSs). To do so, we implement and run a query that counts the distinct values for each column.\n",
        "In general, most systems use hash-based algorithms to find the distinct values in a large set of values (e.g., a database column).\n",
        "Obs: Sort-based algorithm are an alternative but usually slower.\n"
      ]
    },
    {
      "cell_type": "code",
      "execution_count": 6,
      "metadata": {},
      "outputs": [
        {
          "name": "stdout",
          "output_type": "stream",
          "text": [
            "Results:\n",
            "\n",
            "Pandas:\n",
            "2 2368538 2372446 10 4512 7 2 261 262 5 1862 35 15 3550 939 3 11158 0 0\n",
            "\n",
            "SQLite:\n",
            "(2, 2368538, 2372446, 10, 4512, 7, 2, 261, 262, 5, 1862, 35, 15, 3550, 939, 3, 11158, 0, 0)\n",
            "\n",
            "DuckDB:\n",
            "[(2, 2368538, 2372446, 10, 4512, 7, 2, 261, 262, 5, 1862, 35, 15, 3550, 939, 3, 11158, 0, 0)]\n",
            "\n",
            "Times:\n",
            "Pandas: 6.335019826889038\n",
            "SQLite: 64.0736825466156\n",
            "DuckDB: 1.9302151203155518\n"
          ]
        }
      ],
      "source": [
        "import time\n",
        "\n",
        "sql_01_sqlite = \"\"\"\n",
        "SELECT \n",
        "    COUNT(DISTINCT VendorID),\n",
        "    COUNT(DISTINCT tpep_pickup_datetime),\n",
        "    COUNT(DISTINCT tpep_dropoff_datetime),\n",
        "    COUNT(DISTINCT passenger_count),\n",
        "    COUNT(DISTINCT trip_distance),\n",
        "    COUNT(DISTINCT RatecodeID),\n",
        "    COUNT(DISTINCT store_and_fwd_flag),\n",
        "    COUNT(DISTINCT PULocationID),\n",
        "    COUNT(DISTINCT DOLocationID),\n",
        "    COUNT(DISTINCT payment_type),\n",
        "    COUNT(DISTINCT fare_amount),\n",
        "    COUNT(DISTINCT extra),\n",
        "    COUNT(DISTINCT mta_tax),\n",
        "    COUNT(DISTINCT tip_amount),\n",
        "    COUNT(DISTINCT tolls_amount),\n",
        "    COUNT(DISTINCT improvement_surcharge),\n",
        "    COUNT(DISTINCT total_amount),\n",
        "    COUNT(DISTINCT congestion_surcharge),\n",
        "    COUNT(DISTINCT airport_fee)\n",
        "FROM yellow_tripdata_2016_01;\n",
        "\"\"\"\n",
        "\n",
        "sql_01_duckdb = \"\"\"\n",
        "SELECT \n",
        "    COUNT(DISTINCT VendorID),\n",
        "    COUNT(DISTINCT tpep_pickup_datetime),\n",
        "    COUNT(DISTINCT tpep_dropoff_datetime),\n",
        "    COUNT(DISTINCT passenger_count),\n",
        "    COUNT(DISTINCT trip_distance),\n",
        "    COUNT(DISTINCT RatecodeID),\n",
        "    COUNT(DISTINCT store_and_fwd_flag),\n",
        "    COUNT(DISTINCT PULocationID),\n",
        "    COUNT(DISTINCT DOLocationID),\n",
        "    COUNT(DISTINCT payment_type),\n",
        "    COUNT(DISTINCT fare_amount),\n",
        "    COUNT(DISTINCT extra),\n",
        "    COUNT(DISTINCT mta_tax),\n",
        "    COUNT(DISTINCT tip_amount),\n",
        "    COUNT(DISTINCT tolls_amount),\n",
        "    COUNT(DISTINCT improvement_surcharge),\n",
        "    COUNT(DISTINCT total_amount),\n",
        "    COUNT(DISTINCT congestion_surcharge),\n",
        "    COUNT(DISTINCT airport_fee)\n",
        "FROM yellow_tripdata_2016_01;\n",
        "\"\"\"\n",
        "\n",
        "def query_01_pandas():\n",
        "    print('\\nPandas:')\n",
        "    print(\n",
        "        yellow_tripdata_pandas['VendorID'].nunique(),\n",
        "        yellow_tripdata_pandas['tpep_pickup_datetime'].nunique(),\n",
        "        yellow_tripdata_pandas['tpep_dropoff_datetime'].nunique(),\n",
        "        yellow_tripdata_pandas['passenger_count'].nunique(),\n",
        "        yellow_tripdata_pandas['trip_distance'].nunique(),\n",
        "        yellow_tripdata_pandas['RatecodeID'].nunique(),\n",
        "        yellow_tripdata_pandas['store_and_fwd_flag'].nunique(),\n",
        "        yellow_tripdata_pandas['PULocationID'].nunique(),\n",
        "        yellow_tripdata_pandas['DOLocationID'].nunique(),\n",
        "        yellow_tripdata_pandas['payment_type'].nunique(),\n",
        "        yellow_tripdata_pandas['fare_amount'].nunique(),\n",
        "        yellow_tripdata_pandas['extra'].nunique(),\n",
        "        yellow_tripdata_pandas['mta_tax'].nunique(),\n",
        "        yellow_tripdata_pandas['tip_amount'].nunique(),\n",
        "        yellow_tripdata_pandas['tolls_amount'].nunique(),\n",
        "        yellow_tripdata_pandas['improvement_surcharge'].nunique(),\n",
        "        yellow_tripdata_pandas['total_amount'].nunique(),\n",
        "        yellow_tripdata_pandas['congestion_surcharge'].nunique(),\n",
        "        yellow_tripdata_pandas['airport_fee'].nunique()\n",
        "    )\n",
        "\n",
        "def query_01_sqlite():\n",
        "    print('\\nSQLite:')\n",
        "    sqlite_cursor.execute(sql_01_sqlite)\n",
        "    result = sqlite_cursor.fetchone()\n",
        "    print(result)\n",
        "\n",
        "def query_01_duckdb():\n",
        "    print('\\nDuckDB:')\n",
        "    duck_cursor.execute(sql_01_duckdb)\n",
        "    result = duck_cursor.fetchall()\n",
        "    print(result)\n",
        "\n",
        "print('Results:')\n",
        "\n",
        "start = time.time()\n",
        "query_01_pandas()\n",
        "time_pandas = time.time() - start\n",
        "\n",
        "start = time.time()\n",
        "query_01_sqlite()\n",
        "time_sqlite = time.time() - start\n",
        "\n",
        "start = time.time()\n",
        "query_01_duckdb()\n",
        "time_duckdb = time.time() - start\n",
        "\n",
        "print('\\nTimes:')\n",
        "print('Pandas: ' + str(time_pandas))\n",
        "print('SQLite: ' + str(time_sqlite))\n",
        "print('DuckDB: ' + str(time_duckdb))\n"
      ]
    },
    {
      "cell_type": "markdown",
      "metadata": {
        "id": "AnE6A2olT954"
      },
      "source": [
        "\n",
        "\n",
        "In our second query, we want to compare the performance of the aggregation/grouping functions.\n",
        "**Query Q2 [15 pts]**: What's the avg/max/min frequency of events grouped by day and hour? (Recall that each record in the data set represents one event.)\n",
        "\n",
        "**TIP_1** : Start by writing a subquery that groups the data by Day/Hour and counts all events.\n",
        "\n",
        "For duckdb:\n",
        "EXTRACT(DOY FROM tpep_pickup_datetime), EXTRACT(HOUR FROM tpep_pickup_datetime)\n",
        "\n",
        "For Sqlite:\n",
        "strftime('%j', tpep_pickup_datetime), strftime('%H', tpep_pickup_datetime) for\n",
        "\n",
        "**TIP_2**: After writing the subquery, get the avg, min and max values of it\n",
        "\n",
        "For your convenience, we already provide the Pandas implementation, remember to use it for correctness/logic purposes."
      ]
    },
    {
      "cell_type": "code",
      "execution_count": 8,
      "metadata": {},
      "outputs": [
        {
          "name": "stdout",
          "output_type": "stream",
          "text": [
            "Results:\n",
            "\n",
            "Pandas:\n"
          ]
        },
        {
          "name": "stderr",
          "output_type": "stream",
          "text": [
            "C:\\Users\\Mehul-PC\\AppData\\Local\\Temp\\ipykernel_14016\\169161681.py:34: SettingWithCopyWarning: \n",
            "A value is trying to be set on a copy of a slice from a DataFrame.\n",
            "Try using .loc[row_indexer,col_indexer] = value instead\n",
            "\n",
            "See the caveats in the documentation: https://pandas.pydata.org/pandas-docs/stable/user_guide/indexing.html#returning-a-view-versus-a-copy\n",
            "  df['day'] = pd.to_datetime(df['tpep_pickup_datetime']).dt.dayofyear\n",
            "C:\\Users\\Mehul-PC\\AppData\\Local\\Temp\\ipykernel_14016\\169161681.py:35: SettingWithCopyWarning: \n",
            "A value is trying to be set on a copy of a slice from a DataFrame.\n",
            "Try using .loc[row_indexer,col_indexer] = value instead\n",
            "\n",
            "See the caveats in the documentation: https://pandas.pydata.org/pandas-docs/stable/user_guide/indexing.html#returning-a-view-versus-a-copy\n",
            "  df['hour'] = pd.to_datetime(df['tpep_pickup_datetime']).dt.hour\n"
          ]
        },
        {
          "name": "stdout",
          "output_type": "stream",
          "text": [
            "8 14657.34811827957 28511\n",
            "\n",
            "SQLite:\n",
            "[(8, 14657.34811827957, 28511)]\n",
            "\n",
            "DuckDB:\n",
            "[(8, 14657.34811827957, 28511)]\n",
            "\n",
            "Times:\n",
            "Pandas: 0.9947283267974854\n",
            "SQLite: 22.105127334594727\n",
            "DuckDB: 0.041411638259887695\n"
          ]
        }
      ],
      "source": [
        "import pandas as pd\n",
        "import time\n",
        "\n",
        "sql_02_sqlite = \"\"\"\n",
        "WITH event_counts AS (\n",
        "    SELECT \n",
        "        strftime('%j', tpep_pickup_datetime) AS day,\n",
        "        strftime('%H', tpep_pickup_datetime) AS hour,\n",
        "        COUNT(*) AS count\n",
        "    FROM yellow_tripdata_2016_01\n",
        "    GROUP BY day, hour\n",
        ")\n",
        "SELECT MIN(count), AVG(count), MAX(count) FROM event_counts;\n",
        "\"\"\"\n",
        "sql_02_duckdb = \"\"\"\n",
        "WITH event_counts AS (\n",
        "    SELECT \n",
        "        EXTRACT(DOY FROM tpep_pickup_datetime) AS day,\n",
        "        EXTRACT(HOUR FROM tpep_pickup_datetime) AS hour,\n",
        "        COUNT(*) AS count\n",
        "    FROM yellow_tripdata_2016_01\n",
        "    GROUP BY day, hour\n",
        ")\n",
        "SELECT MIN(count), AVG(count), MAX(count) FROM event_counts;\n",
        "\"\"\"\n",
        "def query_02_pandas():\n",
        "    print('\\nPandas:')\n",
        "    df = yellow_tripdata_pandas[[\"VendorID\", \"tpep_pickup_datetime\"]]\n",
        "    df['day'] = pd.to_datetime(df['tpep_pickup_datetime']).dt.dayofyear\n",
        "    df['hour'] = pd.to_datetime(df['tpep_pickup_datetime']).dt.hour\n",
        "    res = df.groupby(['day', 'hour']).agg({'VendorID': 'count'})\n",
        "    print(res[\"VendorID\"].min(), res[\"VendorID\"].mean(), res[\"VendorID\"].max())\n",
        "\n",
        "def query_02_sqlite():\n",
        "    print('\\nSQLite:')\n",
        "    sqlite_cursor.execute(sql_02_sqlite)\n",
        "    result = sqlite_cursor.fetchall()\n",
        "    print(result)\n",
        "\n",
        "def query_02_duckdb():\n",
        "    print('\\nDuckDB:')\n",
        "    duck_cursor.execute(sql_02_duckdb)\n",
        "    result = duck_cursor.fetchall()\n",
        "    print(result)\n",
        "\n",
        "print('Results:')\n",
        "\n",
        "start = time.time()\n",
        "query_02_pandas()\n",
        "time_pandas = time.time() - start\n",
        "\n",
        "start = time.time()\n",
        "query_02_sqlite()\n",
        "time_sqlite = time.time() - start\n",
        "\n",
        "start = time.time()\n",
        "query_02_duckdb()\n",
        "time_duckdb = time.time() - start\n",
        "\n",
        "print('\\nTimes:')\n",
        "print('Pandas: ' + str(time_pandas))\n",
        "print('SQLite: ' + str(time_sqlite))\n",
        "print('DuckDB: ' + str(time_duckdb))\n"
      ]
    },
    {
      "cell_type": "markdown",
      "metadata": {
        "id": "CqqmSeKvIN2L"
      },
      "source": [
        "# **Machine Learning : Fare Estimation** [40 pts]"
      ]
    },
    {
      "cell_type": "markdown",
      "metadata": {
        "id": "9-AA_rgyIYpI"
      },
      "source": [
        "Here you will need to use the data to do the most basic form of machine learning: [linear regression](https://en.wikipedia.org/wiki/Ordinary_least_squares#Simple_linear_regression_model). You can train a simple estimator that takes the trip distance and estimates the price. For this exercise we provide the linear regression using pandas. Your goal is to mimic the pandas computation in both SQLite and DuckDB, and compare the computation time until the calculation of linear regression's parameters alpha and beta **(Which must be the same in all three systems, i.e., alpha and beta calculated by SQLite and DuckDB must be the same as those calculated by Pandas; take this into consideration to check if your answer is correct)**."
      ]
    },
    {
      "cell_type": "code",
      "execution_count": 9,
      "metadata": {
        "id": "AR6hF_QgI3Y4"
      },
      "outputs": [
        {
          "data": {
            "text/plain": [
              "<Axes: xlabel='trip_distance', ylabel='fare_amount'>"
            ]
          },
          "execution_count": 9,
          "metadata": {},
          "output_type": "execute_result"
        },
        {
          "data": {
            "image/png": "[encoded data removed]",
            "text/plain": [
              "<Figure size 640x480 with 1 Axes>"
            ]
          },
          "metadata": {},
          "output_type": "display_data"
        }
      ],
      "source": [
        "cov_xy = (yellow_tripdata_pandas[\"trip_distance\"] * yellow_tripdata_pandas[\"fare_amount\"]).sum() - (\n",
        "    yellow_tripdata_pandas[\"trip_distance\"].sum() * yellow_tripdata_pandas[\"fare_amount\"].sum()\n",
        ") / len(yellow_tripdata_pandas)\n",
        "var_xy = (yellow_tripdata_pandas[\"trip_distance\"] ** 2).sum() - yellow_tripdata_pandas[\"trip_distance\"].sum() ** 2 / len(yellow_tripdata_pandas)\n",
        "beta = cov_xy / var_xy\n",
        "alpha = yellow_tripdata_pandas[\"fare_amount\"].mean() - beta * yellow_tripdata_pandas[\"trip_distance\"].mean()\n",
        "\n",
        "alpha\n",
        "# 12.486907739140417\n",
        "beta\n",
        "# 4.6752084884145456e-06\n",
        "\n",
        "sample = yellow_tripdata_pandas.sample(10000)\n",
        "sample[\"price\"] = alpha + beta * sample[\"trip_distance\"]\n",
        "ax = sample.plot.scatter(x=\"trip_distance\", y=\"fare_amount\")\n",
        "sample.plot.line(x=\"trip_distance\", y=\"price\", ax=ax, color=\"red\")"
      ]
    },
    {
      "cell_type": "markdown",
      "metadata": {
        "id": "MSNgeIoyJeBN"
      },
      "source": [
        "As you can tell from the above image, as with any real life dataset, the New York City trip dataset also contains outliers that we need to clean to get a good regression. Hence we need to get rid of the noisy data that disturbs our basic regression example.\n",
        "\n",
        "**Note**: The pandas program above is merely to show the dirty data/outliers, consider the following one for the rest of this section."
      ]
    },
    {
      "cell_type": "code",
      "execution_count": 10,
      "metadata": {
        "id": "6SFDISlWJ01R"
      },
      "outputs": [
        {
          "name": "stdout",
          "output_type": "stream",
          "text": [
            "Alpha: 4.651616991535136\n",
            "Beta: 2.661441728292328\n",
            "ML Regression in Pandas: 1.3261330127716064\n"
          ]
        },
        {
          "data": {
            "text/plain": [
              "<Axes: xlabel='trip_distance', ylabel='fare_amount'>"
            ]
          },
          "execution_count": 10,
          "metadata": {},
          "output_type": "execute_result"
        },
        {
          "data": {
            "image/png": "[encoded data removed]",
            "text/plain": [
              "<Figure size 640x480 with 1 Axes>"
            ]
          },
          "metadata": {},
          "output_type": "display_data"
        }
      ],
      "source": [
        "start = time.time()\n",
        "cap_fare = yellow_tripdata_pandas[\"fare_amount\"].mean() + 3 * yellow_tripdata_pandas[\"fare_amount\"].std()\n",
        "cap_distance = yellow_tripdata_pandas[\"trip_distance\"].mean() + 3 * yellow_tripdata_pandas[\"trip_distance\"].std()\n",
        "df_filtered = yellow_tripdata_pandas.query(\n",
        "    f\"trip_distance > 0 and trip_distance < {cap_distance} and fare_amount > 0 and fare_amount < {cap_fare}\"\n",
        ")\n",
        "\n",
        "cov_xy = (df_filtered[\"trip_distance\"] * df_filtered[\"fare_amount\"]).sum() - (\n",
        "    df_filtered[\"trip_distance\"].sum() * df_filtered[\"fare_amount\"].sum()\n",
        ") / len(df_filtered)\n",
        "var_xy = (df_filtered[\"trip_distance\"] ** 2).sum() - df_filtered[\n",
        "    \"trip_distance\"\n",
        "].sum() ** 2 / len(df_filtered)\n",
        "beta = cov_xy / var_xy\n",
        "alpha = df_filtered[\"fare_amount\"].mean() - beta * df_filtered[\"trip_distance\"].mean()\n",
        "\n",
        "alpha\n",
        "# 4.651606864471554\n",
        "beta\n",
        "# 2.661444816924383\n",
        "end = time.time()\n",
        "print(\"Alpha: \" + str(alpha))\n",
        "print(\"Beta: \" + str(beta))\n",
        "print(\"ML Regression in Pandas: \" +str(end - start))\n",
        "\n",
        "sample[\"price\"] = alpha + beta * sample[\"trip_distance\"]\n",
        "ax = sample.plot.scatter(x=\"trip_distance\", y=\"fare_amount\")\n",
        "sample.plot.line(x=\"trip_distance\", y=\"price\", ax=ax, color=\"red\")"
      ]
    },
    {
      "cell_type": "markdown",
      "metadata": {
        "id": "g0ZKXzBaKS7v"
      },
      "source": [
        "Now, your task is to perform the same linear regression using both duckdb and sqlite."
      ]
    },
    {
      "cell_type": "markdown",
      "metadata": {
        "id": "IBwc6FGCySin"
      },
      "source": [
        "**SQLite**:\n",
        "Since SQLite doesn't have a function to compute the standard deviation and its a bit more complex than doing it in duckdb. We provide you with a solution that should be taken as inspiration for duckdb.\n",
        "Here you only have to implement lines 46 and 49 to generate the samples necessary to plot a sample of the data + linear regression."
      ]
    },
    {
      "cell_type": "code",
      "execution_count": 11,
      "metadata": {},
      "outputs": [
        {
          "name": "stdout",
          "output_type": "stream",
          "text": [
            "SQLite - Alpha: 4.65161699157053, Beta: 2.661441728279978\n",
            "SQLite Regression Time: 8.301041603088379 seconds\n"
          ]
        },
        {
          "data": {
            "image/png": "[encoded data removed]",
            "text/plain": [
              "<Figure size 640x480 with 1 Axes>"
            ]
          },
          "metadata": {},
          "output_type": "display_data"
        }
      ],
      "source": [
        "import math\n",
        "import time\n",
        "\n",
        "cap_fare = yellow_tripdata_pandas[\"fare_amount\"].mean() + 3 * yellow_tripdata_pandas[\"fare_amount\"].std()\n",
        "cap_distance = yellow_tripdata_pandas[\"trip_distance\"].mean() + 3 * yellow_tripdata_pandas[\"trip_distance\"].std()\n",
        "\n",
        "sqlite_cursor.execute(f\"\"\"\n",
        "    SELECT\n",
        "        (SUM(trip_distance * fare_amount) - SUM(trip_distance) * SUM(fare_amount) / COUNT(*)) /\n",
        "        (SUM(trip_distance * trip_distance) - SUM(trip_distance) * SUM(trip_distance) / COUNT(*)) AS beta,\n",
        "        AVG(fare_amount) AS avg_fare_amount,\n",
        "        AVG(trip_distance) AS avg_trip_distance\n",
        "    FROM yellow_tripdata_2016_01\n",
        "    WHERE\n",
        "        fare_amount > 0 AND\n",
        "        fare_amount < {cap_fare} AND\n",
        "        trip_distance > 0 AND\n",
        "        trip_distance < {cap_distance};\n",
        "\"\"\")\n",
        "beta, avg_fare_amount, avg_trip_distance = sqlite_cursor.fetchone()\n",
        "alpha = avg_fare_amount - beta * avg_trip_distance\n",
        "print(f\"SQLite - Alpha: {alpha}, Beta: {beta}\")\n",
        "\n",
        "sqlite_sample_query = \"\"\"\n",
        "    SELECT trip_distance, fare_amount \n",
        "    FROM yellow_tripdata_2016_01\n",
        "    WHERE fare_amount > 0 AND fare_amount < {cap_fare}\n",
        "    AND trip_distance > 0 AND trip_distance < {cap_distance}\n",
        "    ORDER BY RANDOM() LIMIT 1000;\n",
        "\"\"\".format(cap_fare=cap_fare, cap_distance=cap_distance)\n",
        "\n",
        "sqlite_cursor.execute(sqlite_sample_query)\n",
        "sqlite_sample_data = sqlite_cursor.fetchall()\n",
        "\n",
        "sqlite_df_sample = pd.DataFrame(sqlite_sample_data, columns=[\"trip_distance\", \"fare_amount\"])\n",
        "sqlite_df_sample[\"price\"] = alpha + beta * sqlite_df_sample[\"trip_distance\"]\n",
        "\n",
        "ax = sqlite_df_sample.plot.scatter(x=\"trip_distance\", y=\"fare_amount\")\n",
        "sqlite_df_sample.plot.line(x=\"trip_distance\", y=\"price\", ax=ax, color=\"red\")\n",
        "\n",
        "start = time.time()\n",
        "\n",
        "sqlite_cursor.execute(f\"\"\"\n",
        "    SELECT\n",
        "        (SUM(trip_distance * fare_amount) - SUM(trip_distance) * SUM(fare_amount) / COUNT(*)) /\n",
        "        (SUM(trip_distance * trip_distance) - SUM(trip_distance) * SUM(trip_distance) / COUNT(*)) AS beta,\n",
        "        AVG(fare_amount) AS avg_fare_amount,\n",
        "        AVG(trip_distance) AS avg_trip_distance\n",
        "    FROM yellow_tripdata_2016_01\n",
        "    WHERE\n",
        "        fare_amount > 0 AND\n",
        "        fare_amount < {cap_fare} AND\n",
        "        trip_distance > 0 AND\n",
        "        trip_distance < {cap_distance};\n",
        "\"\"\")\n",
        "time_sqlite = time.time() - start\n",
        "print(f\"SQLite Regression Time: {time_sqlite} seconds\")\n"
      ]
    },
    {
      "cell_type": "markdown",
      "metadata": {
        "id": "vmYLsxUIyQEN"
      },
      "source": [
        "**DUCKDB**\n",
        "\n",
        "*TIP: DuckDB has a STDDEV_SAMP function (i.e., function that calculates standard deviation) and thus you can do the whole regression using one query.*\n",
        "\n",
        "**Remember that alpha and beta calculated by your DuckDB solution MUST have the same values as the ones calculated by the Pandas solution above!**"
      ]
    },
    {
      "cell_type": "code",
      "execution_count": 12,
      "metadata": {},
      "outputs": [
        {
          "name": "stdout",
          "output_type": "stream",
          "text": [
            "DuckDB - Alpha: 4.651616991544464, Beta: 2.6614417282890908\n",
            "DuckDB Regression Time: 0.02100396156311035 seconds\n"
          ]
        },
        {
          "data": {
            "image/png": "[encoded data removed]",
            "text/plain": [
              "<Figure size 640x480 with 1 Axes>"
            ]
          },
          "metadata": {},
          "output_type": "display_data"
        }
      ],
      "source": [
        "import time\n",
        "\n",
        "cap_fare = yellow_tripdata_pandas[\"fare_amount\"].mean() + 3 * yellow_tripdata_pandas[\"fare_amount\"].std()\n",
        "cap_distance = yellow_tripdata_pandas[\"trip_distance\"].mean() + 3 * yellow_tripdata_pandas[\"trip_distance\"].std()\n",
        "\n",
        "duck_regression_query = f\"\"\"\n",
        "WITH stats AS (\n",
        "    SELECT\n",
        "        SUM(trip_distance * fare_amount) AS sum_xy,\n",
        "        SUM(trip_distance) AS sum_x,\n",
        "        SUM(fare_amount) AS sum_y,\n",
        "        SUM(trip_distance * trip_distance) AS sum_xx,\n",
        "        COUNT(*) AS n\n",
        "    FROM yellow_tripdata_2016_01\n",
        "    WHERE\n",
        "        fare_amount > 0 AND\n",
        "        fare_amount < {cap_fare} AND\n",
        "        trip_distance > 0 AND\n",
        "        trip_distance < {cap_distance}\n",
        ")\n",
        "SELECT\n",
        "    (sum_xy - (sum_x * sum_y) / n) / (sum_xx - (sum_x * sum_x) / n) AS beta,\n",
        "    sum_y / n AS avg_fare_amount,\n",
        "    sum_x / n AS avg_trip_distance\n",
        "FROM stats;\n",
        "\"\"\"\n",
        "\n",
        "duck_cursor.execute(duck_regression_query)\n",
        "beta, avg_fare_amount, avg_trip_distance = duck_cursor.fetchone()\n",
        "alpha = avg_fare_amount - beta * avg_trip_distance\n",
        "print(f\"DuckDB - Alpha: {alpha}, Beta: {beta}\")\n",
        "\n",
        "duck_sample_query = f\"\"\"\n",
        "    SELECT trip_distance, fare_amount\n",
        "    FROM yellow_tripdata_2016_01\n",
        "    WHERE fare_amount > 0 AND fare_amount < {cap_fare}\n",
        "    AND trip_distance > 0 AND trip_distance < {cap_distance}\n",
        "    ORDER BY RANDOM() LIMIT 1000;\n",
        "\"\"\"\n",
        "duck_cursor.execute(duck_sample_query)\n",
        "duck_sample_data = duck_cursor.fetchall()\n",
        "\n",
        "duck_df_sample = pd.DataFrame(duck_sample_data, columns=[\"trip_distance\", \"fare_amount\"])\n",
        "duck_df_sample[\"price\"] = alpha + beta * duck_df_sample[\"trip_distance\"]\n",
        "\n",
        "ax = duck_df_sample.plot.scatter(x=\"trip_distance\", y=\"fare_amount\")\n",
        "duck_df_sample.plot.line(x=\"trip_distance\", y=\"price\", ax=ax, color=\"red\")\n",
        "\n",
        "start = time.time()\n",
        "duck_cursor.execute(duck_regression_query)\n",
        "time_duckdb = time.time() - start\n",
        "print(f\"DuckDB Regression Time: {time_duckdb} seconds\")\n"
      ]
    }
  ],
  "metadata": {
    "colab": {
      "provenance": []
    },
    "kernelspec": {
      "display_name": "base",
      "language": "python",
      "name": "python3"
    },
    "language_info": {
      "codemirror_mode": {
        "name": "ipython",
        "version": 3
      },
      "file_extension": ".py",
      "mimetype": "text/x-python",
      "name": "python",
      "nbconvert_exporter": "python",
      "pygments_lexer": "ipython3",
      "version": "3.11.7"
    }
  },
  "nbformat": 4,
  "nbformat_minor": 0
}
